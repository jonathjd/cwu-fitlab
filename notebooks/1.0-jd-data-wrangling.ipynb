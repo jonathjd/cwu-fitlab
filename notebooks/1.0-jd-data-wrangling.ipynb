{
 "cells": [
  {
   "cell_type": "code",
   "execution_count": 20,
   "metadata": {},
   "outputs": [],
   "source": [
    "# Import libraries to import and clean data\n",
    "import pandas as pd"
   ]
  },
  {
   "cell_type": "code",
   "execution_count": 22,
   "metadata": {},
   "outputs": [
    {
     "name": "stdout",
     "output_type": "stream",
     "text": [
      "(9965, 144)\n",
      "(11039, 37)\n",
      "(10122, 44)\n",
      "\n",
      "\n",
      "(14417, 219)\n"
     ]
    },
    {
     "name": "stderr",
     "output_type": "stream",
     "text": [
      "/var/folders/0r/_6trl51948x_vd90czsk02t40000gq/T/ipykernel_28819/2240309391.py:8: PerformanceWarning: DataFrame is highly fragmented.  This is usually the result of calling `frame.insert` many times, which has poor performance.  Consider joining all columns at once using pd.concat(axis=1) instead. To get a de-fragmented frame, use `newframe = frame.copy()`\n",
      "  meta_00 = pd.read_sas('/Users/jdickinson/Documents/PersonalRepos/cwu-fitlab/data/raw/DEMO_00.XPT')\n",
      "/var/folders/0r/_6trl51948x_vd90czsk02t40000gq/T/ipykernel_28819/2240309391.py:8: PerformanceWarning: DataFrame is highly fragmented.  This is usually the result of calling `frame.insert` many times, which has poor performance.  Consider joining all columns at once using pd.concat(axis=1) instead. To get a de-fragmented frame, use `newframe = frame.copy()`\n",
      "  meta_00 = pd.read_sas('/Users/jdickinson/Documents/PersonalRepos/cwu-fitlab/data/raw/DEMO_00.XPT')\n",
      "/var/folders/0r/_6trl51948x_vd90czsk02t40000gq/T/ipykernel_28819/2240309391.py:8: PerformanceWarning: DataFrame is highly fragmented.  This is usually the result of calling `frame.insert` many times, which has poor performance.  Consider joining all columns at once using pd.concat(axis=1) instead. To get a de-fragmented frame, use `newframe = frame.copy()`\n",
      "  meta_00 = pd.read_sas('/Users/jdickinson/Documents/PersonalRepos/cwu-fitlab/data/raw/DEMO_00.XPT')\n",
      "/var/folders/0r/_6trl51948x_vd90czsk02t40000gq/T/ipykernel_28819/2240309391.py:8: PerformanceWarning: DataFrame is highly fragmented.  This is usually the result of calling `frame.insert` many times, which has poor performance.  Consider joining all columns at once using pd.concat(axis=1) instead. To get a de-fragmented frame, use `newframe = frame.copy()`\n",
      "  meta_00 = pd.read_sas('/Users/jdickinson/Documents/PersonalRepos/cwu-fitlab/data/raw/DEMO_00.XPT')\n",
      "/var/folders/0r/_6trl51948x_vd90czsk02t40000gq/T/ipykernel_28819/2240309391.py:8: PerformanceWarning: DataFrame is highly fragmented.  This is usually the result of calling `frame.insert` many times, which has poor performance.  Consider joining all columns at once using pd.concat(axis=1) instead. To get a de-fragmented frame, use `newframe = frame.copy()`\n",
      "  meta_00 = pd.read_sas('/Users/jdickinson/Documents/PersonalRepos/cwu-fitlab/data/raw/DEMO_00.XPT')\n",
      "/var/folders/0r/_6trl51948x_vd90czsk02t40000gq/T/ipykernel_28819/2240309391.py:8: PerformanceWarning: DataFrame is highly fragmented.  This is usually the result of calling `frame.insert` many times, which has poor performance.  Consider joining all columns at once using pd.concat(axis=1) instead. To get a de-fragmented frame, use `newframe = frame.copy()`\n",
      "  meta_00 = pd.read_sas('/Users/jdickinson/Documents/PersonalRepos/cwu-fitlab/data/raw/DEMO_00.XPT')\n",
      "/var/folders/0r/_6trl51948x_vd90czsk02t40000gq/T/ipykernel_28819/2240309391.py:8: PerformanceWarning: DataFrame is highly fragmented.  This is usually the result of calling `frame.insert` many times, which has poor performance.  Consider joining all columns at once using pd.concat(axis=1) instead. To get a de-fragmented frame, use `newframe = frame.copy()`\n",
      "  meta_00 = pd.read_sas('/Users/jdickinson/Documents/PersonalRepos/cwu-fitlab/data/raw/DEMO_00.XPT')\n",
      "/var/folders/0r/_6trl51948x_vd90czsk02t40000gq/T/ipykernel_28819/2240309391.py:8: PerformanceWarning: DataFrame is highly fragmented.  This is usually the result of calling `frame.insert` many times, which has poor performance.  Consider joining all columns at once using pd.concat(axis=1) instead. To get a de-fragmented frame, use `newframe = frame.copy()`\n",
      "  meta_00 = pd.read_sas('/Users/jdickinson/Documents/PersonalRepos/cwu-fitlab/data/raw/DEMO_00.XPT')\n",
      "/var/folders/0r/_6trl51948x_vd90czsk02t40000gq/T/ipykernel_28819/2240309391.py:8: PerformanceWarning: DataFrame is highly fragmented.  This is usually the result of calling `frame.insert` many times, which has poor performance.  Consider joining all columns at once using pd.concat(axis=1) instead. To get a de-fragmented frame, use `newframe = frame.copy()`\n",
      "  meta_00 = pd.read_sas('/Users/jdickinson/Documents/PersonalRepos/cwu-fitlab/data/raw/DEMO_00.XPT')\n",
      "/var/folders/0r/_6trl51948x_vd90czsk02t40000gq/T/ipykernel_28819/2240309391.py:8: PerformanceWarning: DataFrame is highly fragmented.  This is usually the result of calling `frame.insert` many times, which has poor performance.  Consider joining all columns at once using pd.concat(axis=1) instead. To get a de-fragmented frame, use `newframe = frame.copy()`\n",
      "  meta_00 = pd.read_sas('/Users/jdickinson/Documents/PersonalRepos/cwu-fitlab/data/raw/DEMO_00.XPT')\n",
      "/var/folders/0r/_6trl51948x_vd90czsk02t40000gq/T/ipykernel_28819/2240309391.py:8: PerformanceWarning: DataFrame is highly fragmented.  This is usually the result of calling `frame.insert` many times, which has poor performance.  Consider joining all columns at once using pd.concat(axis=1) instead. To get a de-fragmented frame, use `newframe = frame.copy()`\n",
      "  meta_00 = pd.read_sas('/Users/jdickinson/Documents/PersonalRepos/cwu-fitlab/data/raw/DEMO_00.XPT')\n",
      "/var/folders/0r/_6trl51948x_vd90czsk02t40000gq/T/ipykernel_28819/2240309391.py:8: PerformanceWarning: DataFrame is highly fragmented.  This is usually the result of calling `frame.insert` many times, which has poor performance.  Consider joining all columns at once using pd.concat(axis=1) instead. To get a de-fragmented frame, use `newframe = frame.copy()`\n",
      "  meta_00 = pd.read_sas('/Users/jdickinson/Documents/PersonalRepos/cwu-fitlab/data/raw/DEMO_00.XPT')\n",
      "/var/folders/0r/_6trl51948x_vd90czsk02t40000gq/T/ipykernel_28819/2240309391.py:8: PerformanceWarning: DataFrame is highly fragmented.  This is usually the result of calling `frame.insert` many times, which has poor performance.  Consider joining all columns at once using pd.concat(axis=1) instead. To get a de-fragmented frame, use `newframe = frame.copy()`\n",
      "  meta_00 = pd.read_sas('/Users/jdickinson/Documents/PersonalRepos/cwu-fitlab/data/raw/DEMO_00.XPT')\n",
      "/var/folders/0r/_6trl51948x_vd90czsk02t40000gq/T/ipykernel_28819/2240309391.py:8: PerformanceWarning: DataFrame is highly fragmented.  This is usually the result of calling `frame.insert` many times, which has poor performance.  Consider joining all columns at once using pd.concat(axis=1) instead. To get a de-fragmented frame, use `newframe = frame.copy()`\n",
      "  meta_00 = pd.read_sas('/Users/jdickinson/Documents/PersonalRepos/cwu-fitlab/data/raw/DEMO_00.XPT')\n",
      "/var/folders/0r/_6trl51948x_vd90czsk02t40000gq/T/ipykernel_28819/2240309391.py:8: PerformanceWarning: DataFrame is highly fragmented.  This is usually the result of calling `frame.insert` many times, which has poor performance.  Consider joining all columns at once using pd.concat(axis=1) instead. To get a de-fragmented frame, use `newframe = frame.copy()`\n",
      "  meta_00 = pd.read_sas('/Users/jdickinson/Documents/PersonalRepos/cwu-fitlab/data/raw/DEMO_00.XPT')\n",
      "/var/folders/0r/_6trl51948x_vd90czsk02t40000gq/T/ipykernel_28819/2240309391.py:8: PerformanceWarning: DataFrame is highly fragmented.  This is usually the result of calling `frame.insert` many times, which has poor performance.  Consider joining all columns at once using pd.concat(axis=1) instead. To get a de-fragmented frame, use `newframe = frame.copy()`\n",
      "  meta_00 = pd.read_sas('/Users/jdickinson/Documents/PersonalRepos/cwu-fitlab/data/raw/DEMO_00.XPT')\n",
      "/var/folders/0r/_6trl51948x_vd90czsk02t40000gq/T/ipykernel_28819/2240309391.py:8: PerformanceWarning: DataFrame is highly fragmented.  This is usually the result of calling `frame.insert` many times, which has poor performance.  Consider joining all columns at once using pd.concat(axis=1) instead. To get a de-fragmented frame, use `newframe = frame.copy()`\n",
      "  meta_00 = pd.read_sas('/Users/jdickinson/Documents/PersonalRepos/cwu-fitlab/data/raw/DEMO_00.XPT')\n",
      "/var/folders/0r/_6trl51948x_vd90czsk02t40000gq/T/ipykernel_28819/2240309391.py:8: PerformanceWarning: DataFrame is highly fragmented.  This is usually the result of calling `frame.insert` many times, which has poor performance.  Consider joining all columns at once using pd.concat(axis=1) instead. To get a de-fragmented frame, use `newframe = frame.copy()`\n",
      "  meta_00 = pd.read_sas('/Users/jdickinson/Documents/PersonalRepos/cwu-fitlab/data/raw/DEMO_00.XPT')\n",
      "/var/folders/0r/_6trl51948x_vd90czsk02t40000gq/T/ipykernel_28819/2240309391.py:8: PerformanceWarning: DataFrame is highly fragmented.  This is usually the result of calling `frame.insert` many times, which has poor performance.  Consider joining all columns at once using pd.concat(axis=1) instead. To get a de-fragmented frame, use `newframe = frame.copy()`\n",
      "  meta_00 = pd.read_sas('/Users/jdickinson/Documents/PersonalRepos/cwu-fitlab/data/raw/DEMO_00.XPT')\n",
      "/var/folders/0r/_6trl51948x_vd90czsk02t40000gq/T/ipykernel_28819/2240309391.py:8: PerformanceWarning: DataFrame is highly fragmented.  This is usually the result of calling `frame.insert` many times, which has poor performance.  Consider joining all columns at once using pd.concat(axis=1) instead. To get a de-fragmented frame, use `newframe = frame.copy()`\n",
      "  meta_00 = pd.read_sas('/Users/jdickinson/Documents/PersonalRepos/cwu-fitlab/data/raw/DEMO_00.XPT')\n",
      "/var/folders/0r/_6trl51948x_vd90czsk02t40000gq/T/ipykernel_28819/2240309391.py:8: PerformanceWarning: DataFrame is highly fragmented.  This is usually the result of calling `frame.insert` many times, which has poor performance.  Consider joining all columns at once using pd.concat(axis=1) instead. To get a de-fragmented frame, use `newframe = frame.copy()`\n",
      "  meta_00 = pd.read_sas('/Users/jdickinson/Documents/PersonalRepos/cwu-fitlab/data/raw/DEMO_00.XPT')\n",
      "/var/folders/0r/_6trl51948x_vd90czsk02t40000gq/T/ipykernel_28819/2240309391.py:8: PerformanceWarning: DataFrame is highly fragmented.  This is usually the result of calling `frame.insert` many times, which has poor performance.  Consider joining all columns at once using pd.concat(axis=1) instead. To get a de-fragmented frame, use `newframe = frame.copy()`\n",
      "  meta_00 = pd.read_sas('/Users/jdickinson/Documents/PersonalRepos/cwu-fitlab/data/raw/DEMO_00.XPT')\n",
      "/var/folders/0r/_6trl51948x_vd90czsk02t40000gq/T/ipykernel_28819/2240309391.py:8: PerformanceWarning: DataFrame is highly fragmented.  This is usually the result of calling `frame.insert` many times, which has poor performance.  Consider joining all columns at once using pd.concat(axis=1) instead. To get a de-fragmented frame, use `newframe = frame.copy()`\n",
      "  meta_00 = pd.read_sas('/Users/jdickinson/Documents/PersonalRepos/cwu-fitlab/data/raw/DEMO_00.XPT')\n",
      "/var/folders/0r/_6trl51948x_vd90czsk02t40000gq/T/ipykernel_28819/2240309391.py:8: PerformanceWarning: DataFrame is highly fragmented.  This is usually the result of calling `frame.insert` many times, which has poor performance.  Consider joining all columns at once using pd.concat(axis=1) instead. To get a de-fragmented frame, use `newframe = frame.copy()`\n",
      "  meta_00 = pd.read_sas('/Users/jdickinson/Documents/PersonalRepos/cwu-fitlab/data/raw/DEMO_00.XPT')\n",
      "/var/folders/0r/_6trl51948x_vd90czsk02t40000gq/T/ipykernel_28819/2240309391.py:8: PerformanceWarning: DataFrame is highly fragmented.  This is usually the result of calling `frame.insert` many times, which has poor performance.  Consider joining all columns at once using pd.concat(axis=1) instead. To get a de-fragmented frame, use `newframe = frame.copy()`\n",
      "  meta_00 = pd.read_sas('/Users/jdickinson/Documents/PersonalRepos/cwu-fitlab/data/raw/DEMO_00.XPT')\n",
      "/var/folders/0r/_6trl51948x_vd90czsk02t40000gq/T/ipykernel_28819/2240309391.py:8: PerformanceWarning: DataFrame is highly fragmented.  This is usually the result of calling `frame.insert` many times, which has poor performance.  Consider joining all columns at once using pd.concat(axis=1) instead. To get a de-fragmented frame, use `newframe = frame.copy()`\n",
      "  meta_00 = pd.read_sas('/Users/jdickinson/Documents/PersonalRepos/cwu-fitlab/data/raw/DEMO_00.XPT')\n",
      "/var/folders/0r/_6trl51948x_vd90czsk02t40000gq/T/ipykernel_28819/2240309391.py:8: PerformanceWarning: DataFrame is highly fragmented.  This is usually the result of calling `frame.insert` many times, which has poor performance.  Consider joining all columns at once using pd.concat(axis=1) instead. To get a de-fragmented frame, use `newframe = frame.copy()`\n",
      "  meta_00 = pd.read_sas('/Users/jdickinson/Documents/PersonalRepos/cwu-fitlab/data/raw/DEMO_00.XPT')\n",
      "/var/folders/0r/_6trl51948x_vd90czsk02t40000gq/T/ipykernel_28819/2240309391.py:8: PerformanceWarning: DataFrame is highly fragmented.  This is usually the result of calling `frame.insert` many times, which has poor performance.  Consider joining all columns at once using pd.concat(axis=1) instead. To get a de-fragmented frame, use `newframe = frame.copy()`\n",
      "  meta_00 = pd.read_sas('/Users/jdickinson/Documents/PersonalRepos/cwu-fitlab/data/raw/DEMO_00.XPT')\n",
      "/var/folders/0r/_6trl51948x_vd90czsk02t40000gq/T/ipykernel_28819/2240309391.py:8: PerformanceWarning: DataFrame is highly fragmented.  This is usually the result of calling `frame.insert` many times, which has poor performance.  Consider joining all columns at once using pd.concat(axis=1) instead. To get a de-fragmented frame, use `newframe = frame.copy()`\n",
      "  meta_00 = pd.read_sas('/Users/jdickinson/Documents/PersonalRepos/cwu-fitlab/data/raw/DEMO_00.XPT')\n",
      "/var/folders/0r/_6trl51948x_vd90czsk02t40000gq/T/ipykernel_28819/2240309391.py:8: PerformanceWarning: DataFrame is highly fragmented.  This is usually the result of calling `frame.insert` many times, which has poor performance.  Consider joining all columns at once using pd.concat(axis=1) instead. To get a de-fragmented frame, use `newframe = frame.copy()`\n",
      "  meta_00 = pd.read_sas('/Users/jdickinson/Documents/PersonalRepos/cwu-fitlab/data/raw/DEMO_00.XPT')\n",
      "/var/folders/0r/_6trl51948x_vd90czsk02t40000gq/T/ipykernel_28819/2240309391.py:8: PerformanceWarning: DataFrame is highly fragmented.  This is usually the result of calling `frame.insert` many times, which has poor performance.  Consider joining all columns at once using pd.concat(axis=1) instead. To get a de-fragmented frame, use `newframe = frame.copy()`\n",
      "  meta_00 = pd.read_sas('/Users/jdickinson/Documents/PersonalRepos/cwu-fitlab/data/raw/DEMO_00.XPT')\n",
      "/var/folders/0r/_6trl51948x_vd90czsk02t40000gq/T/ipykernel_28819/2240309391.py:8: PerformanceWarning: DataFrame is highly fragmented.  This is usually the result of calling `frame.insert` many times, which has poor performance.  Consider joining all columns at once using pd.concat(axis=1) instead. To get a de-fragmented frame, use `newframe = frame.copy()`\n",
      "  meta_00 = pd.read_sas('/Users/jdickinson/Documents/PersonalRepos/cwu-fitlab/data/raw/DEMO_00.XPT')\n",
      "/var/folders/0r/_6trl51948x_vd90czsk02t40000gq/T/ipykernel_28819/2240309391.py:8: PerformanceWarning: DataFrame is highly fragmented.  This is usually the result of calling `frame.insert` many times, which has poor performance.  Consider joining all columns at once using pd.concat(axis=1) instead. To get a de-fragmented frame, use `newframe = frame.copy()`\n",
      "  meta_00 = pd.read_sas('/Users/jdickinson/Documents/PersonalRepos/cwu-fitlab/data/raw/DEMO_00.XPT')\n",
      "/var/folders/0r/_6trl51948x_vd90czsk02t40000gq/T/ipykernel_28819/2240309391.py:8: PerformanceWarning: DataFrame is highly fragmented.  This is usually the result of calling `frame.insert` many times, which has poor performance.  Consider joining all columns at once using pd.concat(axis=1) instead. To get a de-fragmented frame, use `newframe = frame.copy()`\n",
      "  meta_00 = pd.read_sas('/Users/jdickinson/Documents/PersonalRepos/cwu-fitlab/data/raw/DEMO_00.XPT')\n",
      "/var/folders/0r/_6trl51948x_vd90czsk02t40000gq/T/ipykernel_28819/2240309391.py:8: PerformanceWarning: DataFrame is highly fragmented.  This is usually the result of calling `frame.insert` many times, which has poor performance.  Consider joining all columns at once using pd.concat(axis=1) instead. To get a de-fragmented frame, use `newframe = frame.copy()`\n",
      "  meta_00 = pd.read_sas('/Users/jdickinson/Documents/PersonalRepos/cwu-fitlab/data/raw/DEMO_00.XPT')\n",
      "/var/folders/0r/_6trl51948x_vd90czsk02t40000gq/T/ipykernel_28819/2240309391.py:8: PerformanceWarning: DataFrame is highly fragmented.  This is usually the result of calling `frame.insert` many times, which has poor performance.  Consider joining all columns at once using pd.concat(axis=1) instead. To get a de-fragmented frame, use `newframe = frame.copy()`\n",
      "  meta_00 = pd.read_sas('/Users/jdickinson/Documents/PersonalRepos/cwu-fitlab/data/raw/DEMO_00.XPT')\n",
      "/var/folders/0r/_6trl51948x_vd90czsk02t40000gq/T/ipykernel_28819/2240309391.py:8: PerformanceWarning: DataFrame is highly fragmented.  This is usually the result of calling `frame.insert` many times, which has poor performance.  Consider joining all columns at once using pd.concat(axis=1) instead. To get a de-fragmented frame, use `newframe = frame.copy()`\n",
      "  meta_00 = pd.read_sas('/Users/jdickinson/Documents/PersonalRepos/cwu-fitlab/data/raw/DEMO_00.XPT')\n",
      "/var/folders/0r/_6trl51948x_vd90czsk02t40000gq/T/ipykernel_28819/2240309391.py:8: PerformanceWarning: DataFrame is highly fragmented.  This is usually the result of calling `frame.insert` many times, which has poor performance.  Consider joining all columns at once using pd.concat(axis=1) instead. To get a de-fragmented frame, use `newframe = frame.copy()`\n",
      "  meta_00 = pd.read_sas('/Users/jdickinson/Documents/PersonalRepos/cwu-fitlab/data/raw/DEMO_00.XPT')\n",
      "/var/folders/0r/_6trl51948x_vd90czsk02t40000gq/T/ipykernel_28819/2240309391.py:8: PerformanceWarning: DataFrame is highly fragmented.  This is usually the result of calling `frame.insert` many times, which has poor performance.  Consider joining all columns at once using pd.concat(axis=1) instead. To get a de-fragmented frame, use `newframe = frame.copy()`\n",
      "  meta_00 = pd.read_sas('/Users/jdickinson/Documents/PersonalRepos/cwu-fitlab/data/raw/DEMO_00.XPT')\n",
      "/var/folders/0r/_6trl51948x_vd90czsk02t40000gq/T/ipykernel_28819/2240309391.py:8: PerformanceWarning: DataFrame is highly fragmented.  This is usually the result of calling `frame.insert` many times, which has poor performance.  Consider joining all columns at once using pd.concat(axis=1) instead. To get a de-fragmented frame, use `newframe = frame.copy()`\n",
      "  meta_00 = pd.read_sas('/Users/jdickinson/Documents/PersonalRepos/cwu-fitlab/data/raw/DEMO_00.XPT')\n",
      "/var/folders/0r/_6trl51948x_vd90czsk02t40000gq/T/ipykernel_28819/2240309391.py:8: PerformanceWarning: DataFrame is highly fragmented.  This is usually the result of calling `frame.insert` many times, which has poor performance.  Consider joining all columns at once using pd.concat(axis=1) instead. To get a de-fragmented frame, use `newframe = frame.copy()`\n",
      "  meta_00 = pd.read_sas('/Users/jdickinson/Documents/PersonalRepos/cwu-fitlab/data/raw/DEMO_00.XPT')\n",
      "/var/folders/0r/_6trl51948x_vd90czsk02t40000gq/T/ipykernel_28819/2240309391.py:8: PerformanceWarning: DataFrame is highly fragmented.  This is usually the result of calling `frame.insert` many times, which has poor performance.  Consider joining all columns at once using pd.concat(axis=1) instead. To get a de-fragmented frame, use `newframe = frame.copy()`\n",
      "  meta_00 = pd.read_sas('/Users/jdickinson/Documents/PersonalRepos/cwu-fitlab/data/raw/DEMO_00.XPT')\n",
      "/var/folders/0r/_6trl51948x_vd90czsk02t40000gq/T/ipykernel_28819/2240309391.py:8: PerformanceWarning: DataFrame is highly fragmented.  This is usually the result of calling `frame.insert` many times, which has poor performance.  Consider joining all columns at once using pd.concat(axis=1) instead. To get a de-fragmented frame, use `newframe = frame.copy()`\n",
      "  meta_00 = pd.read_sas('/Users/jdickinson/Documents/PersonalRepos/cwu-fitlab/data/raw/DEMO_00.XPT')\n",
      "/var/folders/0r/_6trl51948x_vd90czsk02t40000gq/T/ipykernel_28819/2240309391.py:8: PerformanceWarning: DataFrame is highly fragmented.  This is usually the result of calling `frame.insert` many times, which has poor performance.  Consider joining all columns at once using pd.concat(axis=1) instead. To get a de-fragmented frame, use `newframe = frame.copy()`\n",
      "  meta_00 = pd.read_sas('/Users/jdickinson/Documents/PersonalRepos/cwu-fitlab/data/raw/DEMO_00.XPT')\n"
     ]
    }
   ],
   "source": [
    "# Script to load datasets and metadata into giant dataset\n",
    "# cardiovascular data\n",
    "df_00 = pd.read_sas('/Users/jdickinson/Documents/PersonalRepos/cwu-fitlab/data/raw/CV_00.XPT')\n",
    "df_02 = pd.read_sas('/Users/jdickinson/Documents/PersonalRepos/cwu-fitlab/data/raw/CV_02.XPT')\n",
    "df_04 = pd.read_sas('/Users/jdickinson/Documents/PersonalRepos/cwu-fitlab/data/raw/CV_04.XPT')\n",
    "\n",
    "# Metadata / demographic data\n",
    "meta_00 = pd.read_sas('/Users/jdickinson/Documents/PersonalRepos/cwu-fitlab/data/raw/DEMO_00.XPT')\n",
    "meta_02 = pd.read_sas('/Users/jdickinson/Documents/PersonalRepos/cwu-fitlab/data/raw/DEMO_02.XPT')\n",
    "meta_04 = pd.read_sas('/Users/jdickinson/Documents/PersonalRepos/cwu-fitlab/data/raw/DEMO_04.XPT')\n",
    "\n",
    "# verify\n",
    "print(meta_00.shape)\n",
    "print(meta_02.shape)\n",
    "print(meta_04.shape)\n",
    "print('\\n')\n",
    "\n",
    "# concatenate then merge\n",
    "df_frames = [df_00, df_02, df_04]\n",
    "meta_frames = [meta_00, meta_02, meta_04]\n",
    "df_concat = pd.concat(df_frames)\n",
    "meta_concat = pd.concat(meta_frames)\n",
    "merged = df_concat.merge(right=meta_concat, how='inner', on='SEQN')\n",
    "\n",
    "# verify\n",
    "print(merged.shape)"
   ]
  },
  {
   "cell_type": "code",
   "execution_count": 23,
   "metadata": {},
   "outputs": [],
   "source": [
    "merged.to_csv('nhanes_merged.csv', index=False)"
   ]
  }
 ],
 "metadata": {
  "kernelspec": {
   "display_name": "fitlab",
   "language": "python",
   "name": "python3"
  },
  "language_info": {
   "codemirror_mode": {
    "name": "ipython",
    "version": 3
   },
   "file_extension": ".py",
   "mimetype": "text/x-python",
   "name": "python",
   "nbconvert_exporter": "python",
   "pygments_lexer": "ipython3",
   "version": "3.8.15"
  },
  "orig_nbformat": 4,
  "vscode": {
   "interpreter": {
    "hash": "6e130cbfc92e842470844f97199bc6d6358679ea8cff66c0a0a2566b5457a026"
   }
  }
 },
 "nbformat": 4,
 "nbformat_minor": 2
}
