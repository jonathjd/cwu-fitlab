{
 "cells": [
  {
   "cell_type": "code",
   "execution_count": 6,
   "metadata": {},
   "outputs": [],
   "source": [
    "import pandas as pd\n",
    "import numpy as np\n",
    "import plotly.express as px"
   ]
  },
  {
   "cell_type": "code",
   "execution_count": 2,
   "metadata": {},
   "outputs": [
    {
     "data": {
      "text/html": [
       "<div>\n",
       "<style scoped>\n",
       "    .dataframe tbody tr th:only-of-type {\n",
       "        vertical-align: middle;\n",
       "    }\n",
       "\n",
       "    .dataframe tbody tr th {\n",
       "        vertical-align: top;\n",
       "    }\n",
       "\n",
       "    .dataframe thead th {\n",
       "        text-align: right;\n",
       "    }\n",
       "</style>\n",
       "<table border=\"1\" class=\"dataframe\">\n",
       "  <thead>\n",
       "    <tr style=\"text-align: right;\">\n",
       "      <th></th>\n",
       "      <th>SEQN</th>\n",
       "      <th>_MULT_</th>\n",
       "      <th>DXAEXSTS</th>\n",
       "      <th>DXITOT</th>\n",
       "      <th>DXIHE</th>\n",
       "      <th>DXXHEA</th>\n",
       "      <th>DXAHEBV</th>\n",
       "      <th>DXXHEBMC</th>\n",
       "      <th>DXXHEBMD</th>\n",
       "      <th>DXAHETV</th>\n",
       "      <th>...</th>\n",
       "      <th>SIALANG</th>\n",
       "      <th>SIAPROXY</th>\n",
       "      <th>SIAINTRP</th>\n",
       "      <th>FIALANG</th>\n",
       "      <th>FIAPROXY</th>\n",
       "      <th>FIAINTRP</th>\n",
       "      <th>MIALANG</th>\n",
       "      <th>MIAPROXY</th>\n",
       "      <th>MIAINTRP</th>\n",
       "      <th>AIALANG</th>\n",
       "    </tr>\n",
       "  </thead>\n",
       "  <tbody>\n",
       "    <tr>\n",
       "      <th>0</th>\n",
       "      <td>2.0</td>\n",
       "      <td>1.0</td>\n",
       "      <td>1.0</td>\n",
       "      <td>1.0</td>\n",
       "      <td>5.397605e-79</td>\n",
       "      <td>230.82</td>\n",
       "      <td>5.397605e-79</td>\n",
       "      <td>504.1</td>\n",
       "      <td>2.184</td>\n",
       "      <td>5.397605e-79</td>\n",
       "      <td>...</td>\n",
       "      <td>NaN</td>\n",
       "      <td>NaN</td>\n",
       "      <td>NaN</td>\n",
       "      <td>NaN</td>\n",
       "      <td>NaN</td>\n",
       "      <td>NaN</td>\n",
       "      <td>NaN</td>\n",
       "      <td>NaN</td>\n",
       "      <td>NaN</td>\n",
       "      <td>NaN</td>\n",
       "    </tr>\n",
       "    <tr>\n",
       "      <th>1</th>\n",
       "      <td>2.0</td>\n",
       "      <td>2.0</td>\n",
       "      <td>1.0</td>\n",
       "      <td>1.0</td>\n",
       "      <td>5.397605e-79</td>\n",
       "      <td>230.82</td>\n",
       "      <td>5.397605e-79</td>\n",
       "      <td>504.1</td>\n",
       "      <td>2.184</td>\n",
       "      <td>5.397605e-79</td>\n",
       "      <td>...</td>\n",
       "      <td>NaN</td>\n",
       "      <td>NaN</td>\n",
       "      <td>NaN</td>\n",
       "      <td>NaN</td>\n",
       "      <td>NaN</td>\n",
       "      <td>NaN</td>\n",
       "      <td>NaN</td>\n",
       "      <td>NaN</td>\n",
       "      <td>NaN</td>\n",
       "      <td>NaN</td>\n",
       "    </tr>\n",
       "    <tr>\n",
       "      <th>2</th>\n",
       "      <td>2.0</td>\n",
       "      <td>3.0</td>\n",
       "      <td>1.0</td>\n",
       "      <td>1.0</td>\n",
       "      <td>5.397605e-79</td>\n",
       "      <td>230.82</td>\n",
       "      <td>5.397605e-79</td>\n",
       "      <td>504.1</td>\n",
       "      <td>2.184</td>\n",
       "      <td>5.397605e-79</td>\n",
       "      <td>...</td>\n",
       "      <td>NaN</td>\n",
       "      <td>NaN</td>\n",
       "      <td>NaN</td>\n",
       "      <td>NaN</td>\n",
       "      <td>NaN</td>\n",
       "      <td>NaN</td>\n",
       "      <td>NaN</td>\n",
       "      <td>NaN</td>\n",
       "      <td>NaN</td>\n",
       "      <td>NaN</td>\n",
       "    </tr>\n",
       "  </tbody>\n",
       "</table>\n",
       "<p>3 rows × 261 columns</p>\n",
       "</div>"
      ],
      "text/plain": [
       "   SEQN  _MULT_  DXAEXSTS  DXITOT         DXIHE  DXXHEA       DXAHEBV  \\\n",
       "0   2.0     1.0       1.0     1.0  5.397605e-79  230.82  5.397605e-79   \n",
       "1   2.0     2.0       1.0     1.0  5.397605e-79  230.82  5.397605e-79   \n",
       "2   2.0     3.0       1.0     1.0  5.397605e-79  230.82  5.397605e-79   \n",
       "\n",
       "   DXXHEBMC  DXXHEBMD       DXAHETV  ...  SIALANG  SIAPROXY  SIAINTRP  \\\n",
       "0     504.1     2.184  5.397605e-79  ...      NaN       NaN       NaN   \n",
       "1     504.1     2.184  5.397605e-79  ...      NaN       NaN       NaN   \n",
       "2     504.1     2.184  5.397605e-79  ...      NaN       NaN       NaN   \n",
       "\n",
       "   FIALANG  FIAPROXY  FIAINTRP  MIALANG  MIAPROXY  MIAINTRP  AIALANG  \n",
       "0      NaN       NaN       NaN      NaN       NaN       NaN      NaN  \n",
       "1      NaN       NaN       NaN      NaN       NaN       NaN      NaN  \n",
       "2      NaN       NaN       NaN      NaN       NaN       NaN      NaN  \n",
       "\n",
       "[3 rows x 261 columns]"
      ]
     },
     "execution_count": 2,
     "metadata": {},
     "output_type": "execute_result"
    }
   ],
   "source": [
    "dexa = pd.read_csv('/Users/jdickinson/Documents/PersonalRepos/cwu-fitlab/data/final/dexa_nhanes_cleaned.csv')\n",
    "dexa.head(3)"
   ]
  },
  {
   "cell_type": "code",
   "execution_count": 6,
   "metadata": {},
   "outputs": [
    {
     "data": {
      "text/plain": [
       "<AxesSubplot: >"
      ]
     },
     "execution_count": 6,
     "metadata": {},
     "output_type": "execute_result"
    },
    {
     "data": {
      "image/png": "[encoded data removed]",
      "text/plain": [
       "<Figure size 640x480 with 1 Axes>"
      ]
     },
     "metadata": {},
     "output_type": "display_data"
    }
   ],
   "source": [
    "dexa['DXDTOPF'].hist(bins=45)"
   ]
  },
  {
   "cell_type": "code",
   "execution_count": 7,
   "metadata": {},
   "outputs": [],
   "source": [
    "men_dexa = dexa_clean[dexa_clean['RIAGENDR'] == 1]\n",
    "fem_dexa = dexa_clean[dexa_clean['RIAGENDR'] == 2]"
   ]
  },
  {
   "cell_type": "code",
   "execution_count": 16,
   "metadata": {},
   "outputs": [
    {
     "data": {
      "text/plain": [
       "26.95040079257858"
      ]
     },
     "execution_count": 16,
     "metadata": {},
     "output_type": "execute_result"
    }
   ],
   "source": [
    "men_dexa['DXDTOPF'].mean()"
   ]
  },
  {
   "cell_type": "code",
   "execution_count": 12,
   "metadata": {},
   "outputs": [
    {
     "data": {
      "text/plain": [
       "<AxesSubplot: >"
      ]
     },
     "execution_count": 12,
     "metadata": {},
     "output_type": "execute_result"
    },
    {
     "data": {
      "image/png": "[encoded data removed]",
      "text/plain": [
       "<Figure size 640x480 with 1 Axes>"
      ]
     },
     "metadata": {},
     "output_type": "display_data"
    }
   ],
   "source": [
    "men_dexa['DXDTOPF'].hist(bins=45)"
   ]
  },
  {
   "cell_type": "code",
   "execution_count": 15,
   "metadata": {},
   "outputs": [
    {
     "data": {
      "text/plain": [
       "38.30509342417673"
      ]
     },
     "execution_count": 15,
     "metadata": {},
     "output_type": "execute_result"
    }
   ],
   "source": [
    "fem_dexa['DXDTOPF'].mean()"
   ]
  },
  {
   "cell_type": "code",
   "execution_count": 13,
   "metadata": {},
   "outputs": [
    {
     "data": {
      "text/plain": [
       "<AxesSubplot: >"
      ]
     },
     "execution_count": 13,
     "metadata": {},
     "output_type": "execute_result"
    },
    {
     "data": {
      "image/png": "[encoded data removed]",
      "text/plain": [
       "<Figure size 640x480 with 1 Axes>"
      ]
     },
     "metadata": {},
     "output_type": "display_data"
    }
   ],
   "source": [
    "fem_dexa['DXDTOPF'].hist(bins=45)"
   ]
  },
  {
   "cell_type": "code",
   "execution_count": 7,
   "metadata": {},
   "outputs": [
    {
     "ename": "ValueError",
     "evalue": "Mime type rendering requires nbformat>=4.2.0 but it is not installed",
     "output_type": "error",
     "traceback": [
      "\u001b[0;31m---------------------------------------------------------------------------\u001b[0m",
      "\u001b[0;31mValueError\u001b[0m                                Traceback (most recent call last)",
      "Cell \u001b[0;32mIn[7], line 26\u001b[0m\n\u001b[1;32m      2\u001b[0m fig \u001b[39m=\u001b[39m px\u001b[39m.\u001b[39mhistogram(\n\u001b[1;32m      3\u001b[0m     dexa, \n\u001b[1;32m      4\u001b[0m     x\u001b[39m=\u001b[39m\u001b[39m'\u001b[39m\u001b[39mDXDTOPF\u001b[39m\u001b[39m'\u001b[39m, \n\u001b[0;32m   (...)\u001b[0m\n\u001b[1;32m     13\u001b[0m     }\n\u001b[1;32m     14\u001b[0m )\n\u001b[1;32m     16\u001b[0m \u001b[39m# line_placement = df_vo2['CVDESVO2'].mean()\u001b[39;00m\n\u001b[1;32m     17\u001b[0m \u001b[39m# fig.add_vline(\u001b[39;00m\n\u001b[1;32m     18\u001b[0m \u001b[39m#     type=\"line\",\u001b[39;00m\n\u001b[0;32m   (...)\u001b[0m\n\u001b[1;32m     23\u001b[0m \u001b[39m#     x=line_placement\u001b[39;00m\n\u001b[1;32m     24\u001b[0m \u001b[39m# )\u001b[39;00m\n\u001b[0;32m---> 26\u001b[0m fig\u001b[39m.\u001b[39;49mshow()\n",
      "File \u001b[0;32m~/Documents/PersonalRepos/cwu-fitlab/fitlab-env/lib/python3.9/site-packages/plotly/basedatatypes.py:3398\u001b[0m, in \u001b[0;36mBaseFigure.show\u001b[0;34m(self, *args, **kwargs)\u001b[0m\n\u001b[1;32m   3365\u001b[0m \u001b[39m\u001b[39m\u001b[39m\"\"\"\u001b[39;00m\n\u001b[1;32m   3366\u001b[0m \u001b[39mShow a figure using either the default renderer(s) or the renderer(s)\u001b[39;00m\n\u001b[1;32m   3367\u001b[0m \u001b[39mspecified by the renderer argument\u001b[39;00m\n\u001b[0;32m   (...)\u001b[0m\n\u001b[1;32m   3394\u001b[0m \u001b[39mNone\u001b[39;00m\n\u001b[1;32m   3395\u001b[0m \u001b[39m\"\"\"\u001b[39;00m\n\u001b[1;32m   3396\u001b[0m \u001b[39mimport\u001b[39;00m \u001b[39mplotly\u001b[39;00m\u001b[39m.\u001b[39;00m\u001b[39mio\u001b[39;00m \u001b[39mas\u001b[39;00m \u001b[39mpio\u001b[39;00m\n\u001b[0;32m-> 3398\u001b[0m \u001b[39mreturn\u001b[39;00m pio\u001b[39m.\u001b[39;49mshow(\u001b[39mself\u001b[39;49m, \u001b[39m*\u001b[39;49margs, \u001b[39m*\u001b[39;49m\u001b[39m*\u001b[39;49mkwargs)\n",
      "File \u001b[0;32m~/Documents/PersonalRepos/cwu-fitlab/fitlab-env/lib/python3.9/site-packages/plotly/io/_renderers.py:396\u001b[0m, in \u001b[0;36mshow\u001b[0;34m(fig, renderer, validate, **kwargs)\u001b[0m\n\u001b[1;32m    391\u001b[0m         \u001b[39mraise\u001b[39;00m \u001b[39mValueError\u001b[39;00m(\n\u001b[1;32m    392\u001b[0m             \u001b[39m\"\u001b[39m\u001b[39mMime type rendering requires ipython but it is not installed\u001b[39m\u001b[39m\"\u001b[39m\n\u001b[1;32m    393\u001b[0m         )\n\u001b[1;32m    395\u001b[0m     \u001b[39mif\u001b[39;00m \u001b[39mnot\u001b[39;00m nbformat \u001b[39mor\u001b[39;00m LooseVersion(nbformat\u001b[39m.\u001b[39m__version__) \u001b[39m<\u001b[39m LooseVersion(\u001b[39m\"\u001b[39m\u001b[39m4.2.0\u001b[39m\u001b[39m\"\u001b[39m):\n\u001b[0;32m--> 396\u001b[0m         \u001b[39mraise\u001b[39;00m \u001b[39mValueError\u001b[39;00m(\n\u001b[1;32m    397\u001b[0m             \u001b[39m\"\u001b[39m\u001b[39mMime type rendering requires nbformat>=4.2.0 but it is not installed\u001b[39m\u001b[39m\"\u001b[39m\n\u001b[1;32m    398\u001b[0m         )\n\u001b[1;32m    400\u001b[0m     ipython_display\u001b[39m.\u001b[39mdisplay(bundle, raw\u001b[39m=\u001b[39m\u001b[39mTrue\u001b[39;00m)\n\u001b[1;32m    402\u001b[0m \u001b[39m# external renderers\u001b[39;00m\n",
      "\u001b[0;31mValueError\u001b[0m: Mime type rendering requires nbformat>=4.2.0 but it is not installed"
     ]
    }
   ],
   "source": [
    "# plotly figs\n",
    "fig = px.histogram(\n",
    "    dexa, \n",
    "    x='DXDTOPF', \n",
    "    nbins=25,\n",
    "    title=\"Histogram of Body Fat %\",\n",
    "    labels={\n",
    "        \"DXDTOPF\": \"Estimated Body Fat (%)\"\n",
    "    },\n",
    "    template=\"simple_white\",\n",
    "    color_discrete_map={\n",
    "        \"DEXTOPF\": \"red\"\n",
    "    }\n",
    ")\n",
    "\n",
    "# line_placement = df_vo2['CVDESVO2'].mean()\n",
    "# fig.add_vline(\n",
    "#     type=\"line\",\n",
    "#     line_color=\"salmon\",\n",
    "#     line_width=4,\n",
    "#     opacity=1,\n",
    "#     line_dash=\"dot\",\n",
    "#     x=line_placement\n",
    "# )\n",
    "\n",
    "fig.show()"
   ]
  }
 ],
 "metadata": {
  "kernelspec": {
   "display_name": "fitlab-env",
   "language": "python",
   "name": "python3"
  },
  "language_info": {
   "codemirror_mode": {
    "name": "ipython",
    "version": 3
   },
   "file_extension": ".py",
   "mimetype": "text/x-python",
   "name": "python",
   "nbconvert_exporter": "python",
   "pygments_lexer": "ipython3",
   "version": "3.9.12 (main, Apr  5 2022, 01:52:34) \n[Clang 12.0.0 ]"
  },
  "orig_nbformat": 4,
  "vscode": {
   "interpreter": {
    "hash": "ddbacdd4b5ae30c5c6c578ce5003d10638e206dceb965d5f654635e25226f004"
   }
  }
 },
 "nbformat": 4,
 "nbformat_minor": 2
}
